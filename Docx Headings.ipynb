{
 "cells": [
  {
   "cell_type": "markdown",
   "metadata": {},
   "source": [
    "# Get Headings Number and Text Gist"
   ]
  },
  {
   "cell_type": "code",
   "execution_count": 1,
   "metadata": {},
   "outputs": [],
   "source": [
    "from pathlib import Path\n",
    "from docx import Document\n",
    "import pandas as pd"
   ]
  },
  {
   "cell_type": "code",
   "execution_count": 2,
   "metadata": {},
   "outputs": [
    {
     "name": "stdout",
     "output_type": "stream",
     "text": [
      ".ipynb_checkpoints\n",
      "Docx Headings.ipynb\n",
      "headings.csv\n",
      "test.docx\n"
     ]
    }
   ],
   "source": [
    "!dir /b"
   ]
  },
  {
   "cell_type": "code",
   "execution_count": 3,
   "metadata": {},
   "outputs": [
    {
     "data": {
      "text/plain": [
       "True"
      ]
     },
     "execution_count": 3,
     "metadata": {},
     "output_type": "execute_result"
    }
   ],
   "source": [
    "PATH = Path('test.docx')\n",
    "PATH.exists()"
   ]
  },
  {
   "cell_type": "code",
   "execution_count": 4,
   "metadata": {},
   "outputs": [],
   "source": [
    "def get_heading_tuple(paragraph):\n",
    "    if paragraph.style.name.startswith('Heading'):\n",
    "        return (paragraph.style.name, paragraph.text)\n",
    "\n",
    "def _get_headings(doc):\n",
    "    headings = []\n",
    "    for para in doc.paragraphs:\n",
    "        heading = get_heading_tuple(para)\n",
    "        if heading is not None:\n",
    "            headings.append(heading)\n",
    "    return headings"
   ]
  },
  {
   "cell_type": "code",
   "execution_count": 5,
   "metadata": {},
   "outputs": [],
   "source": [
    "def get_headings(doc):\n",
    "    \"Return dict of (heading_num, heading_text). NOTE: Support 3 levels only\"\n",
    "    headings = _get_headings(doc)\n",
    "    h1_c, h2_c, h3_c = 0, 0, 0\n",
    "    numbered_headings = []\n",
    "    for heading in headings:\n",
    "        if heading[0] == 'Heading 1':\n",
    "            h1_c += 1\n",
    "            h2_c = 0\n",
    "            h3_c = 0\n",
    "            numbered_headings.append((f\"{h1_c}\", heading[1]))\n",
    "        if heading[0] == 'Heading 2':\n",
    "            if h1_c < 1: h1_c = 1\n",
    "            h2_c += 1\n",
    "            h3_c = 0\n",
    "            numbered_headings.append((f\"{h1_c}.{h2_c}\", heading[1]))\n",
    "        if heading[0] == 'Heading 3':\n",
    "            if h2_c < 1: h2_c = 1\n",
    "            h3_c += 1\n",
    "            numbered_headings.append((f\"{h1_c}.{h2_c}.{h3_c}\", heading[1]))\n",
    "    return dict(numbered_headings)\n",
    "        "
   ]
  },
  {
   "cell_type": "code",
   "execution_count": 6,
   "metadata": {},
   "outputs": [],
   "source": [
    "def get_headings_to_csv(docx_p, csv_name=\"headings.csv\"):\n",
    "    \"Parse docx file and save headings to csv. NOTE: Support 3 levels only\"\n",
    "    doc = Document(docx_p)\n",
    "    headings = get_headings(doc)\n",
    "    headings = pd.DataFrame.from_dict(headings, orient='index')\n",
    "    headings.to_csv(csv_name, header=False)    "
   ]
  },
  {
   "cell_type": "code",
   "execution_count": 7,
   "metadata": {},
   "outputs": [],
   "source": [
    "document = Document(PATH)"
   ]
  },
  {
   "cell_type": "code",
   "execution_count": 8,
   "metadata": {},
   "outputs": [
    {
     "data": {
      "text/plain": [
       "{'1': 'Header 1',\n",
       " '1.1': 'Header 1.1',\n",
       " '1.1.1': 'Header 1.1.1',\n",
       " '2': 'Header 2',\n",
       " '2.1': 'Header 2.1',\n",
       " '2.1.1': 'Header 2.1.1',\n",
       " '2.1.2': 'Header 2.1.2',\n",
       " '2.2': 'Header 2.2',\n",
       " '2.2.1': 'Header 2.2.1',\n",
       " '2.2.2': 'Header 2.2.2',\n",
       " '2.3': 'Header 2.3',\n",
       " '2.3.1': 'Header 2.3.1',\n",
       " '3': 'Header 3',\n",
       " '3.1.1': 'Header 3.1.1',\n",
       " '3.1.2': 'Header 3.1.2'}"
      ]
     },
     "execution_count": 8,
     "metadata": {},
     "output_type": "execute_result"
    }
   ],
   "source": [
    "headings = get_headings(document); headings"
   ]
  },
  {
   "cell_type": "code",
   "execution_count": 9,
   "metadata": {},
   "outputs": [],
   "source": [
    "get_headings_to_csv(PATH, csv_name=\"headings.csv\")"
   ]
  },
  {
   "cell_type": "code",
   "execution_count": null,
   "metadata": {},
   "outputs": [],
   "source": []
  }
 ],
 "metadata": {
  "kernelspec": {
   "display_name": "Python 3",
   "language": "python",
   "name": "python3"
  },
  "language_info": {
   "codemirror_mode": {
    "name": "ipython",
    "version": 3
   },
   "file_extension": ".py",
   "mimetype": "text/x-python",
   "name": "python",
   "nbconvert_exporter": "python",
   "pygments_lexer": "ipython3",
   "version": "3.7.3"
  }
 },
 "nbformat": 4,
 "nbformat_minor": 2
}
